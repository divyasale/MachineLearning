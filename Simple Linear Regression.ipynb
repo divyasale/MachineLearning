{
 "cells": [
  {
   "cell_type": "markdown",
   "id": "5be2be9d",
   "metadata": {},
   "source": [
    "## Simple Linear Regression"
   ]
  },
  {
   "cell_type": "markdown",
   "id": "0cbfd0fb",
   "metadata": {},
   "source": [
    "### Step 1 : Import Required Liabraries"
   ]
  },
  {
   "cell_type": "code",
   "execution_count": 37,
   "id": "a7360132",
   "metadata": {},
   "outputs": [],
   "source": [
    "import numpy as np\n",
    "import pandas as pd\n",
    "from sklearn import linear_model\n",
    "from matplotlib import pyplot as plt\n",
    "from sklearn.model_selection import train_test_split\n",
    "from sklearn.metrics import mean_absolute_error,mean_squared_error,r2_score"
   ]
  },
  {
   "cell_type": "markdown",
   "id": "8c8c6fe8",
   "metadata": {},
   "source": [
    "### Step 2: Read the DataSet"
   ]
  },
  {
   "cell_type": "code",
   "execution_count": 2,
   "id": "6bc8ab1e",
   "metadata": {},
   "outputs": [],
   "source": [
    "url=\"https://raw.githubusercontent.com/goradbj/MachineLearning/main/Regression/Road-Accidents-2018-Annexure-1.csv\"\n",
    "df=pd.read_csv(url)"
   ]
  },
  {
   "cell_type": "code",
   "execution_count": 3,
   "id": "51f500cd",
   "metadata": {},
   "outputs": [
    {
     "data": {
      "text/html": [
       "<div>\n",
       "<style scoped>\n",
       "    .dataframe tbody tr th:only-of-type {\n",
       "        vertical-align: middle;\n",
       "    }\n",
       "\n",
       "    .dataframe tbody tr th {\n",
       "        vertical-align: top;\n",
       "    }\n",
       "\n",
       "    .dataframe thead th {\n",
       "        text-align: right;\n",
       "    }\n",
       "</style>\n",
       "<table border=\"1\" class=\"dataframe\">\n",
       "  <thead>\n",
       "    <tr style=\"text-align: right;\">\n",
       "      <th></th>\n",
       "      <th>Years</th>\n",
       "      <th>Total Number of Road Accidents (in numbers)</th>\n",
       "      <th>Total Number of Persons Killed (in numbers)</th>\n",
       "      <th>Total Number of Persons Injured (in numbers)</th>\n",
       "      <th>Population of India (in thousands)</th>\n",
       "      <th>Total Number of Registered Motor Vehicles (in thousands)</th>\n",
       "      <th>Road Length (in kms)</th>\n",
       "      <th>Number of Accidents per Lakh Population</th>\n",
       "      <th>Number of Accidents per Ten Thousand Vehicles</th>\n",
       "      <th>Number of Accidents Per Ten Thousand Kms of Roads</th>\n",
       "      <th>Number of Persons Killed Per Lakh Population</th>\n",
       "      <th>Number of Persons Killed Per Ten Thousand Vehicles</th>\n",
       "      <th>Number of Persons Killed per Ten Thousand Kms of Roads</th>\n",
       "      <th>Number of Persons Injured per Lakh Population</th>\n",
       "      <th>Number of Persons Injured Per Ten Thousand Vehicles</th>\n",
       "      <th>Number of Persons Injured Per Ten Thousand Kms of Roads</th>\n",
       "    </tr>\n",
       "  </thead>\n",
       "  <tbody>\n",
       "    <tr>\n",
       "      <th>0</th>\n",
       "      <td>1970</td>\n",
       "      <td>114100.0</td>\n",
       "      <td>14500.0</td>\n",
       "      <td>70100.0</td>\n",
       "      <td>539000.0</td>\n",
       "      <td>1401.0</td>\n",
       "      <td>1188728.0</td>\n",
       "      <td>21.2</td>\n",
       "      <td>814.4</td>\n",
       "      <td>959.8</td>\n",
       "      <td>2.7</td>\n",
       "      <td>103.5</td>\n",
       "      <td>122.0</td>\n",
       "      <td>13.0</td>\n",
       "      <td>500.4</td>\n",
       "      <td>589.7</td>\n",
       "    </tr>\n",
       "    <tr>\n",
       "      <th>1</th>\n",
       "      <td>1980</td>\n",
       "      <td>153200.0</td>\n",
       "      <td>24000.0</td>\n",
       "      <td>109100.0</td>\n",
       "      <td>673000.0</td>\n",
       "      <td>4521.0</td>\n",
       "      <td>1491873.0</td>\n",
       "      <td>22.8</td>\n",
       "      <td>338.9</td>\n",
       "      <td>1026.9</td>\n",
       "      <td>3.6</td>\n",
       "      <td>53.1</td>\n",
       "      <td>160.9</td>\n",
       "      <td>16.2</td>\n",
       "      <td>241.3</td>\n",
       "      <td>731.3</td>\n",
       "    </tr>\n",
       "    <tr>\n",
       "      <th>2</th>\n",
       "      <td>1990</td>\n",
       "      <td>282600.0</td>\n",
       "      <td>54100.0</td>\n",
       "      <td>244100.0</td>\n",
       "      <td>835000.0</td>\n",
       "      <td>19152.0</td>\n",
       "      <td>1983867.0</td>\n",
       "      <td>33.8</td>\n",
       "      <td>147.6</td>\n",
       "      <td>1424.5</td>\n",
       "      <td>6.5</td>\n",
       "      <td>28.2</td>\n",
       "      <td>272.7</td>\n",
       "      <td>29.2</td>\n",
       "      <td>127.5</td>\n",
       "      <td>1230.4</td>\n",
       "    </tr>\n",
       "    <tr>\n",
       "      <th>3</th>\n",
       "      <td>1994</td>\n",
       "      <td>325864.0</td>\n",
       "      <td>64463.0</td>\n",
       "      <td>311500.0</td>\n",
       "      <td>904000.0</td>\n",
       "      <td>27660.0</td>\n",
       "      <td>2890950.0</td>\n",
       "      <td>36.0</td>\n",
       "      <td>117.8</td>\n",
       "      <td>1127.2</td>\n",
       "      <td>7.1</td>\n",
       "      <td>23.3</td>\n",
       "      <td>223.0</td>\n",
       "      <td>34.5</td>\n",
       "      <td>112.6</td>\n",
       "      <td>1077.5</td>\n",
       "    </tr>\n",
       "    <tr>\n",
       "      <th>4</th>\n",
       "      <td>1995</td>\n",
       "      <td>351999.0</td>\n",
       "      <td>70781.0</td>\n",
       "      <td>323200.0</td>\n",
       "      <td>924359.0</td>\n",
       "      <td>30295.0</td>\n",
       "      <td>2975035.0</td>\n",
       "      <td>38.1</td>\n",
       "      <td>116.2</td>\n",
       "      <td>1183.2</td>\n",
       "      <td>7.7</td>\n",
       "      <td>23.4</td>\n",
       "      <td>237.9</td>\n",
       "      <td>35.0</td>\n",
       "      <td>106.7</td>\n",
       "      <td>1086.4</td>\n",
       "    </tr>\n",
       "  </tbody>\n",
       "</table>\n",
       "</div>"
      ],
      "text/plain": [
       "  Years  Total Number of Road Accidents (in numbers)  \\\n",
       "0  1970                                     114100.0   \n",
       "1  1980                                     153200.0   \n",
       "2  1990                                     282600.0   \n",
       "3  1994                                     325864.0   \n",
       "4  1995                                     351999.0   \n",
       "\n",
       "   Total Number of Persons Killed (in numbers)  \\\n",
       "0                                      14500.0   \n",
       "1                                      24000.0   \n",
       "2                                      54100.0   \n",
       "3                                      64463.0   \n",
       "4                                      70781.0   \n",
       "\n",
       "   Total Number of Persons Injured (in numbers)  \\\n",
       "0                                       70100.0   \n",
       "1                                      109100.0   \n",
       "2                                      244100.0   \n",
       "3                                      311500.0   \n",
       "4                                      323200.0   \n",
       "\n",
       "   Population of India (in thousands)  \\\n",
       "0                            539000.0   \n",
       "1                            673000.0   \n",
       "2                            835000.0   \n",
       "3                            904000.0   \n",
       "4                            924359.0   \n",
       "\n",
       "   Total Number of Registered Motor Vehicles (in thousands)  \\\n",
       "0                                             1401.0          \n",
       "1                                             4521.0          \n",
       "2                                            19152.0          \n",
       "3                                            27660.0          \n",
       "4                                            30295.0          \n",
       "\n",
       "   Road Length (in kms)  Number of Accidents per Lakh Population  \\\n",
       "0             1188728.0                                     21.2   \n",
       "1             1491873.0                                     22.8   \n",
       "2             1983867.0                                     33.8   \n",
       "3             2890950.0                                     36.0   \n",
       "4             2975035.0                                     38.1   \n",
       "\n",
       "   Number of Accidents per Ten Thousand Vehicles  \\\n",
       "0                                          814.4   \n",
       "1                                          338.9   \n",
       "2                                          147.6   \n",
       "3                                          117.8   \n",
       "4                                          116.2   \n",
       "\n",
       "   Number of Accidents Per Ten Thousand Kms of Roads  \\\n",
       "0                                              959.8   \n",
       "1                                             1026.9   \n",
       "2                                             1424.5   \n",
       "3                                             1127.2   \n",
       "4                                             1183.2   \n",
       "\n",
       "   Number of Persons Killed Per Lakh Population  \\\n",
       "0                                           2.7   \n",
       "1                                           3.6   \n",
       "2                                           6.5   \n",
       "3                                           7.1   \n",
       "4                                           7.7   \n",
       "\n",
       "   Number of Persons Killed Per Ten Thousand Vehicles  \\\n",
       "0                                              103.5    \n",
       "1                                               53.1    \n",
       "2                                               28.2    \n",
       "3                                               23.3    \n",
       "4                                               23.4    \n",
       "\n",
       "   Number of Persons Killed per Ten Thousand Kms of Roads  \\\n",
       "0                                              122.0        \n",
       "1                                              160.9        \n",
       "2                                              272.7        \n",
       "3                                              223.0        \n",
       "4                                              237.9        \n",
       "\n",
       "   Number of Persons Injured per Lakh Population  \\\n",
       "0                                           13.0   \n",
       "1                                           16.2   \n",
       "2                                           29.2   \n",
       "3                                           34.5   \n",
       "4                                           35.0   \n",
       "\n",
       "   Number of Persons Injured Per Ten Thousand Vehicles  \\\n",
       "0                                              500.4     \n",
       "1                                              241.3     \n",
       "2                                              127.5     \n",
       "3                                              112.6     \n",
       "4                                              106.7     \n",
       "\n",
       "   Number of Persons Injured Per Ten Thousand Kms of Roads  \n",
       "0                                              589.7        \n",
       "1                                              731.3        \n",
       "2                                             1230.4        \n",
       "3                                             1077.5        \n",
       "4                                             1086.4        "
      ]
     },
     "execution_count": 3,
     "metadata": {},
     "output_type": "execute_result"
    }
   ],
   "source": [
    "df.head()"
   ]
  },
  {
   "cell_type": "markdown",
   "id": "03cec292",
   "metadata": {},
   "source": [
    "### Step 3 : Exploratory Data Analysis and Data Preprocessing"
   ]
  },
  {
   "cell_type": "code",
   "execution_count": 4,
   "id": "eb436500",
   "metadata": {},
   "outputs": [
    {
     "data": {
      "text/plain": [
       "(29, 16)"
      ]
     },
     "execution_count": 4,
     "metadata": {},
     "output_type": "execute_result"
    }
   ],
   "source": [
    "df.shape"
   ]
  },
  {
   "cell_type": "code",
   "execution_count": 5,
   "id": "197c1653",
   "metadata": {},
   "outputs": [
    {
     "data": {
      "text/plain": [
       "Index(['Years', 'Total Number of Road Accidents (in numbers)',\n",
       "       'Total Number of Persons Killed (in numbers)',\n",
       "       'Total Number of Persons Injured (in numbers)',\n",
       "       'Population of India (in thousands)',\n",
       "       'Total Number of Registered Motor Vehicles (in thousands)',\n",
       "       'Road Length (in kms)', 'Number of Accidents per Lakh Population',\n",
       "       'Number of Accidents per Ten Thousand Vehicles',\n",
       "       'Number of Accidents Per Ten Thousand Kms of Roads',\n",
       "       'Number of Persons Killed Per Lakh Population',\n",
       "       'Number of Persons Killed Per Ten Thousand Vehicles',\n",
       "       'Number of Persons Killed per Ten Thousand Kms of Roads',\n",
       "       'Number of Persons Injured per Lakh Population',\n",
       "       'Number of Persons Injured Per Ten Thousand Vehicles',\n",
       "       'Number of Persons Injured Per Ten Thousand Kms of Roads'],\n",
       "      dtype='object')"
      ]
     },
     "execution_count": 5,
     "metadata": {},
     "output_type": "execute_result"
    }
   ],
   "source": [
    "df.columns"
   ]
  },
  {
   "cell_type": "code",
   "execution_count": 6,
   "id": "f9bfbfae",
   "metadata": {},
   "outputs": [],
   "source": [
    "# Select only relevant columns for building model\n",
    "df=df[['Years','Total Number of Persons Killed (in numbers)']]"
   ]
  },
  {
   "cell_type": "code",
   "execution_count": 7,
   "id": "ecfee557",
   "metadata": {},
   "outputs": [
    {
     "data": {
      "text/html": [
       "<div>\n",
       "<style scoped>\n",
       "    .dataframe tbody tr th:only-of-type {\n",
       "        vertical-align: middle;\n",
       "    }\n",
       "\n",
       "    .dataframe tbody tr th {\n",
       "        vertical-align: top;\n",
       "    }\n",
       "\n",
       "    .dataframe thead th {\n",
       "        text-align: right;\n",
       "    }\n",
       "</style>\n",
       "<table border=\"1\" class=\"dataframe\">\n",
       "  <thead>\n",
       "    <tr style=\"text-align: right;\">\n",
       "      <th></th>\n",
       "      <th>Years</th>\n",
       "      <th>Total Number of Persons Killed (in numbers)</th>\n",
       "    </tr>\n",
       "  </thead>\n",
       "  <tbody>\n",
       "    <tr>\n",
       "      <th>0</th>\n",
       "      <td>1970</td>\n",
       "      <td>14500.0</td>\n",
       "    </tr>\n",
       "    <tr>\n",
       "      <th>1</th>\n",
       "      <td>1980</td>\n",
       "      <td>24000.0</td>\n",
       "    </tr>\n",
       "    <tr>\n",
       "      <th>2</th>\n",
       "      <td>1990</td>\n",
       "      <td>54100.0</td>\n",
       "    </tr>\n",
       "    <tr>\n",
       "      <th>3</th>\n",
       "      <td>1994</td>\n",
       "      <td>64463.0</td>\n",
       "    </tr>\n",
       "    <tr>\n",
       "      <th>4</th>\n",
       "      <td>1995</td>\n",
       "      <td>70781.0</td>\n",
       "    </tr>\n",
       "  </tbody>\n",
       "</table>\n",
       "</div>"
      ],
      "text/plain": [
       "  Years  Total Number of Persons Killed (in numbers)\n",
       "0  1970                                      14500.0\n",
       "1  1980                                      24000.0\n",
       "2  1990                                      54100.0\n",
       "3  1994                                      64463.0\n",
       "4  1995                                      70781.0"
      ]
     },
     "execution_count": 7,
     "metadata": {},
     "output_type": "execute_result"
    }
   ],
   "source": [
    "df.head()"
   ]
  },
  {
   "cell_type": "code",
   "execution_count": 8,
   "id": "b48fe6fd",
   "metadata": {},
   "outputs": [
    {
     "data": {
      "text/html": [
       "<div>\n",
       "<style scoped>\n",
       "    .dataframe tbody tr th:only-of-type {\n",
       "        vertical-align: middle;\n",
       "    }\n",
       "\n",
       "    .dataframe tbody tr th {\n",
       "        vertical-align: top;\n",
       "    }\n",
       "\n",
       "    .dataframe thead th {\n",
       "        text-align: right;\n",
       "    }\n",
       "</style>\n",
       "<table border=\"1\" class=\"dataframe\">\n",
       "  <thead>\n",
       "    <tr style=\"text-align: right;\">\n",
       "      <th></th>\n",
       "      <th>Years</th>\n",
       "      <th>Total Number of Persons Killed (in numbers)</th>\n",
       "    </tr>\n",
       "  </thead>\n",
       "  <tbody>\n",
       "    <tr>\n",
       "      <th>24</th>\n",
       "      <td>2015</td>\n",
       "      <td>146133.00</td>\n",
       "    </tr>\n",
       "    <tr>\n",
       "      <th>25</th>\n",
       "      <td>2016</td>\n",
       "      <td>150785.00</td>\n",
       "    </tr>\n",
       "    <tr>\n",
       "      <th>26</th>\n",
       "      <td>2017</td>\n",
       "      <td>147913.00</td>\n",
       "    </tr>\n",
       "    <tr>\n",
       "      <th>27</th>\n",
       "      <td>2018</td>\n",
       "      <td>151417.00</td>\n",
       "    </tr>\n",
       "    <tr>\n",
       "      <th>28</th>\n",
       "      <td>CAGR 2008/2018</td>\n",
       "      <td>2.36</td>\n",
       "    </tr>\n",
       "  </tbody>\n",
       "</table>\n",
       "</div>"
      ],
      "text/plain": [
       "             Years  Total Number of Persons Killed (in numbers)\n",
       "24            2015                                    146133.00\n",
       "25            2016                                    150785.00\n",
       "26            2017                                    147913.00\n",
       "27            2018                                    151417.00\n",
       "28  CAGR 2008/2018                                         2.36"
      ]
     },
     "execution_count": 8,
     "metadata": {},
     "output_type": "execute_result"
    }
   ],
   "source": [
    "df.tail()"
   ]
  },
  {
   "cell_type": "code",
   "execution_count": 9,
   "id": "17faa1b7",
   "metadata": {},
   "outputs": [],
   "source": [
    "#Drop that records which are not in proper format\n",
    "mdf=df.drop(df.index[28])"
   ]
  },
  {
   "cell_type": "code",
   "execution_count": 10,
   "id": "9a8e1b76",
   "metadata": {},
   "outputs": [
    {
     "data": {
      "text/html": [
       "<div>\n",
       "<style scoped>\n",
       "    .dataframe tbody tr th:only-of-type {\n",
       "        vertical-align: middle;\n",
       "    }\n",
       "\n",
       "    .dataframe tbody tr th {\n",
       "        vertical-align: top;\n",
       "    }\n",
       "\n",
       "    .dataframe thead th {\n",
       "        text-align: right;\n",
       "    }\n",
       "</style>\n",
       "<table border=\"1\" class=\"dataframe\">\n",
       "  <thead>\n",
       "    <tr style=\"text-align: right;\">\n",
       "      <th></th>\n",
       "      <th>Years</th>\n",
       "      <th>Total Number of Persons Killed (in numbers)</th>\n",
       "    </tr>\n",
       "  </thead>\n",
       "  <tbody>\n",
       "    <tr>\n",
       "      <th>23</th>\n",
       "      <td>2014</td>\n",
       "      <td>139671.0</td>\n",
       "    </tr>\n",
       "    <tr>\n",
       "      <th>24</th>\n",
       "      <td>2015</td>\n",
       "      <td>146133.0</td>\n",
       "    </tr>\n",
       "    <tr>\n",
       "      <th>25</th>\n",
       "      <td>2016</td>\n",
       "      <td>150785.0</td>\n",
       "    </tr>\n",
       "    <tr>\n",
       "      <th>26</th>\n",
       "      <td>2017</td>\n",
       "      <td>147913.0</td>\n",
       "    </tr>\n",
       "    <tr>\n",
       "      <th>27</th>\n",
       "      <td>2018</td>\n",
       "      <td>151417.0</td>\n",
       "    </tr>\n",
       "  </tbody>\n",
       "</table>\n",
       "</div>"
      ],
      "text/plain": [
       "   Years  Total Number of Persons Killed (in numbers)\n",
       "23  2014                                     139671.0\n",
       "24  2015                                     146133.0\n",
       "25  2016                                     150785.0\n",
       "26  2017                                     147913.0\n",
       "27  2018                                     151417.0"
      ]
     },
     "execution_count": 10,
     "metadata": {},
     "output_type": "execute_result"
    }
   ],
   "source": [
    "mdf.tail()"
   ]
  },
  {
   "cell_type": "code",
   "execution_count": 11,
   "id": "c6005369",
   "metadata": {},
   "outputs": [
    {
     "data": {
      "text/plain": [
       "Years                                          0\n",
       "Total Number of Persons Killed (in numbers)    0\n",
       "dtype: int64"
      ]
     },
     "execution_count": 11,
     "metadata": {},
     "output_type": "execute_result"
    }
   ],
   "source": [
    "#Check Missing Values\n",
    "mdf.isnull().sum()"
   ]
  },
  {
   "cell_type": "code",
   "execution_count": 12,
   "id": "03497754",
   "metadata": {},
   "outputs": [
    {
     "data": {
      "image/png": "[encoded data removed]",
      "text/plain": [
       "<Figure size 432x288 with 1 Axes>"
      ]
     },
     "metadata": {
      "needs_background": "light"
     },
     "output_type": "display_data"
    }
   ],
   "source": [
    "#Data Visualization\n",
    "plt.scatter(mdf[\"Years\"],mdf[\"Total Number of Persons Killed (in numbers)\"])\n",
    "plt.xlabel(\"Years\")\n",
    "plt.ylabel(\"Total Number of Persons Killed (in numbers)\")\n",
    "plt.title(\"Persons killed in every year due to car accidents\")\n",
    "plt.xticks(rotation='vertical')\n",
    "plt.show()"
   ]
  },
  {
   "cell_type": "markdown",
   "id": "ba2f8d0c",
   "metadata": {},
   "source": [
    "By observing this graph we can say that,year and no of people died is having linear relationship\n",
    "\n",
    "y=mx+c\n",
    "\n",
    "No.of people died = m * Years + c"
   ]
  },
  {
   "cell_type": "code",
   "execution_count": 21,
   "id": "5b03e503",
   "metadata": {},
   "outputs": [],
   "source": [
    "#Divide Data Vertically\n",
    "X=mdf[[\"Years\"]]\n",
    "y=mdf[[\"Total Number of Persons Killed (in numbers)\"]]"
   ]
  },
  {
   "cell_type": "code",
   "execution_count": 22,
   "id": "252a7c41",
   "metadata": {},
   "outputs": [
    {
     "data": {
      "text/html": [
       "<div>\n",
       "<style scoped>\n",
       "    .dataframe tbody tr th:only-of-type {\n",
       "        vertical-align: middle;\n",
       "    }\n",
       "\n",
       "    .dataframe tbody tr th {\n",
       "        vertical-align: top;\n",
       "    }\n",
       "\n",
       "    .dataframe thead th {\n",
       "        text-align: right;\n",
       "    }\n",
       "</style>\n",
       "<table border=\"1\" class=\"dataframe\">\n",
       "  <thead>\n",
       "    <tr style=\"text-align: right;\">\n",
       "      <th></th>\n",
       "      <th>Years</th>\n",
       "    </tr>\n",
       "  </thead>\n",
       "  <tbody>\n",
       "    <tr>\n",
       "      <th>0</th>\n",
       "      <td>1970</td>\n",
       "    </tr>\n",
       "    <tr>\n",
       "      <th>1</th>\n",
       "      <td>1980</td>\n",
       "    </tr>\n",
       "    <tr>\n",
       "      <th>2</th>\n",
       "      <td>1990</td>\n",
       "    </tr>\n",
       "    <tr>\n",
       "      <th>3</th>\n",
       "      <td>1994</td>\n",
       "    </tr>\n",
       "    <tr>\n",
       "      <th>4</th>\n",
       "      <td>1995</td>\n",
       "    </tr>\n",
       "  </tbody>\n",
       "</table>\n",
       "</div>"
      ],
      "text/plain": [
       "  Years\n",
       "0  1970\n",
       "1  1980\n",
       "2  1990\n",
       "3  1994\n",
       "4  1995"
      ]
     },
     "execution_count": 22,
     "metadata": {},
     "output_type": "execute_result"
    }
   ],
   "source": [
    "X.head()"
   ]
  },
  {
   "cell_type": "code",
   "execution_count": 23,
   "id": "dfd5d12e",
   "metadata": {},
   "outputs": [
    {
     "data": {
      "text/html": [
       "<div>\n",
       "<style scoped>\n",
       "    .dataframe tbody tr th:only-of-type {\n",
       "        vertical-align: middle;\n",
       "    }\n",
       "\n",
       "    .dataframe tbody tr th {\n",
       "        vertical-align: top;\n",
       "    }\n",
       "\n",
       "    .dataframe thead th {\n",
       "        text-align: right;\n",
       "    }\n",
       "</style>\n",
       "<table border=\"1\" class=\"dataframe\">\n",
       "  <thead>\n",
       "    <tr style=\"text-align: right;\">\n",
       "      <th></th>\n",
       "      <th>Total Number of Persons Killed (in numbers)</th>\n",
       "    </tr>\n",
       "  </thead>\n",
       "  <tbody>\n",
       "    <tr>\n",
       "      <th>0</th>\n",
       "      <td>14500.0</td>\n",
       "    </tr>\n",
       "    <tr>\n",
       "      <th>1</th>\n",
       "      <td>24000.0</td>\n",
       "    </tr>\n",
       "    <tr>\n",
       "      <th>2</th>\n",
       "      <td>54100.0</td>\n",
       "    </tr>\n",
       "    <tr>\n",
       "      <th>3</th>\n",
       "      <td>64463.0</td>\n",
       "    </tr>\n",
       "    <tr>\n",
       "      <th>4</th>\n",
       "      <td>70781.0</td>\n",
       "    </tr>\n",
       "  </tbody>\n",
       "</table>\n",
       "</div>"
      ],
      "text/plain": [
       "   Total Number of Persons Killed (in numbers)\n",
       "0                                      14500.0\n",
       "1                                      24000.0\n",
       "2                                      54100.0\n",
       "3                                      64463.0\n",
       "4                                      70781.0"
      ]
     },
     "execution_count": 23,
     "metadata": {},
     "output_type": "execute_result"
    }
   ],
   "source": [
    "y.head()"
   ]
  },
  {
   "cell_type": "code",
   "execution_count": 24,
   "id": "b53f42dd",
   "metadata": {},
   "outputs": [
    {
     "name": "stdout",
     "output_type": "stream",
     "text": [
      "(28, 2)\n",
      "(28, 1)\n",
      "(28, 1)\n"
     ]
    }
   ],
   "source": [
    "print(mdf.shape)\n",
    "print(X.shape)\n",
    "print(y.shape)"
   ]
  },
  {
   "cell_type": "code",
   "execution_count": 25,
   "id": "98815624",
   "metadata": {},
   "outputs": [
    {
     "name": "stdout",
     "output_type": "stream",
     "text": [
      "<class 'pandas.core.frame.DataFrame'>\n",
      "Int64Index: 28 entries, 0 to 27\n",
      "Data columns (total 2 columns):\n",
      " #   Column                                       Non-Null Count  Dtype  \n",
      "---  ------                                       --------------  -----  \n",
      " 0   Years                                        28 non-null     object \n",
      " 1   Total Number of Persons Killed (in numbers)  28 non-null     float64\n",
      "dtypes: float64(1), object(1)\n",
      "memory usage: 672.0+ bytes\n"
     ]
    }
   ],
   "source": [
    "mdf.info()"
   ]
  },
  {
   "cell_type": "code",
   "execution_count": 26,
   "id": "699ea91a",
   "metadata": {},
   "outputs": [],
   "source": [
    "#Divide Data Horizontally\n",
    "X_tr,X_te,y_tr,y_te=train_test_split(X,y,test_size=0.2)"
   ]
  },
  {
   "cell_type": "code",
   "execution_count": 27,
   "id": "c928a3d0",
   "metadata": {},
   "outputs": [
    {
     "name": "stdout",
     "output_type": "stream",
     "text": [
      "(28, 2)\n",
      "(28, 1)\n",
      "(28, 1)\n",
      "(22, 1)\n",
      "(6, 1)\n",
      "(22, 1)\n",
      "(6, 1)\n"
     ]
    }
   ],
   "source": [
    "print(mdf.shape)\n",
    "print(X.shape)\n",
    "print(y.shape)\n",
    "print(X_tr.shape)\n",
    "print(X_te.shape)\n",
    "print(y_tr.shape)\n",
    "print(y_te.shape)"
   ]
  },
  {
   "cell_type": "markdown",
   "id": "ea59ef81",
   "metadata": {},
   "source": [
    "### Step : 4 - Build Model"
   ]
  },
  {
   "cell_type": "code",
   "execution_count": 28,
   "id": "8e5c2b2b",
   "metadata": {},
   "outputs": [
    {
     "data": {
      "text/plain": [
       "LinearRegression()"
      ]
     },
     "execution_count": 28,
     "metadata": {},
     "output_type": "execute_result"
    }
   ],
   "source": [
    "rapmodel=linear_model.LinearRegression()\n",
    "rapmodel.fit(X_tr,y_tr)"
   ]
  },
  {
   "cell_type": "code",
   "execution_count": 29,
   "id": "b789ebba",
   "metadata": {},
   "outputs": [
    {
     "data": {
      "text/plain": [
       "array([[3238.70725633]])"
      ]
     },
     "execution_count": 29,
     "metadata": {},
     "output_type": "execute_result"
    }
   ],
   "source": [
    "#Value of m\n",
    "rapmodel.coef_"
   ]
  },
  {
   "cell_type": "code",
   "execution_count": 30,
   "id": "60bb7c2d",
   "metadata": {},
   "outputs": [
    {
     "data": {
      "text/plain": [
       "array([-6387416.72980614])"
      ]
     },
     "execution_count": 30,
     "metadata": {},
     "output_type": "execute_result"
    }
   ],
   "source": [
    "#Value of C\n",
    "rapmodel.intercept_"
   ]
  },
  {
   "cell_type": "markdown",
   "id": "c28a9766",
   "metadata": {},
   "source": [
    "### Step 5 : Do Prediction"
   ]
  },
  {
   "cell_type": "code",
   "execution_count": 31,
   "id": "6f605358",
   "metadata": {},
   "outputs": [
    {
     "data": {
      "text/plain": [
       "array([[148294.51346257]])"
      ]
     },
     "execution_count": 31,
     "metadata": {},
     "output_type": "execute_result"
    }
   ],
   "source": [
    "rapmodel.predict([[2018]])"
   ]
  },
  {
   "cell_type": "code",
   "execution_count": 32,
   "id": "2bcb1bd3",
   "metadata": {},
   "outputs": [
    {
     "data": {
      "text/plain": [
       "array([[132100.97718094],\n",
       "       [ 57610.71028541],\n",
       "       [141817.09894992],\n",
       "       [138578.39169359],\n",
       "       [106191.31913032],\n",
       "       [ 86759.07559235]])"
      ]
     },
     "execution_count": 32,
     "metadata": {},
     "output_type": "execute_result"
    }
   ],
   "source": [
    "y_pred=rapmodel.predict(X_te)\n",
    "y_pred"
   ]
  },
  {
   "cell_type": "markdown",
   "id": "e3735b07",
   "metadata": {},
   "source": [
    "### Step 6 : Evaluate Model"
   ]
  },
  {
   "cell_type": "code",
   "execution_count": 38,
   "id": "72923735",
   "metadata": {},
   "outputs": [
    {
     "name": "stdout",
     "output_type": "stream",
     "text": [
      "Mean Absolute Error is    : 6920.106197271652\n",
      "Mean Squared Error is     : 54781499.872839004\n",
      "Root Mean Squared Error is: 7401.452551549527\n",
      "R2 score is               : 0.9581863995413844\n"
     ]
    }
   ],
   "source": [
    "print(\"Mean Absolute Error is    :\",mean_absolute_error(y_pred,y_te))\n",
    "print(\"Mean Squared Error is     :\",mean_squared_error(y_te,y_pred))\n",
    "print(\"Root Mean Squared Error is:\",np.sqrt(mean_squared_error(y_te,y_pred)))\n",
    "print(\"R2 score is               :\",r2_score(y_te,y_pred))"
   ]
  },
  {
   "cell_type": "markdown",
   "id": "a66260b6",
   "metadata": {},
   "source": [
    "#### Our Model Gives 95% Accuracy"
   ]
  },
  {
   "cell_type": "markdown",
   "id": "7cb99a72",
   "metadata": {},
   "source": [
    "### Step 7 : Plot prediction Line"
   ]
  },
  {
   "cell_type": "code",
   "execution_count": 39,
   "id": "f3d9360b",
   "metadata": {},
   "outputs": [
    {
     "data": {
      "image/png": "[encoded data removed]",
      "text/plain": [
       "<Figure size 432x288 with 1 Axes>"
      ]
     },
     "metadata": {
      "needs_background": "light"
     },
     "output_type": "display_data"
    }
   ],
   "source": [
    "plt.scatter(mdf['Years'],mdf['Total Number of Persons Killed (in numbers)'])\n",
    "plt.plot(mdf['Years'],rapmodel.predict(mdf[['Years']]),color='red')\n",
    "plt.xticks(rotation='vertical')\n",
    "plt.xlabel(\"Years\")\n",
    "plt.ylabel(\"No of people died\")\n",
    "plt.title(\"Years wise no of people died\")\n",
    "plt.show()"
   ]
  },
  {
   "cell_type": "code",
   "execution_count": null,
   "id": "e58df860",
   "metadata": {},
   "outputs": [],
   "source": []
  }
 ],
 "metadata": {
  "kernelspec": {
   "display_name": "Python 3",
   "language": "python",
   "name": "python3"
  },
  "language_info": {
   "codemirror_mode": {
    "name": "ipython",
    "version": 3
   },
   "file_extension": ".py",
   "mimetype": "text/x-python",
   "name": "python",
   "nbconvert_exporter": "python",
   "pygments_lexer": "ipython3",
   "version": "3.8.8"
  }
 },
 "nbformat": 4,
 "nbformat_minor": 5
}

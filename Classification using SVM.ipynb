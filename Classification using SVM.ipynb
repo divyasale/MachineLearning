{
 "cells": [
  {
   "cell_type": "markdown",
   "id": "6c83869d",
   "metadata": {},
   "source": [
    "### Step 1 : Import the required libraries"
   ]
  },
  {
   "cell_type": "code",
   "execution_count": 1,
   "id": "831db58d",
   "metadata": {},
   "outputs": [],
   "source": [
    "import numpy as np\n",
    "import pandas as pd\n",
    "import matplotlib.pyplot as plt\n",
    "from sklearn import datasets\n",
    "from sklearn.model_selection import train_test_split\n",
    "from sklearn import svm\n",
    "from sklearn import metrics"
   ]
  },
  {
   "cell_type": "markdown",
   "id": "2ed44642",
   "metadata": {},
   "source": [
    "### Step 2 : Load the Dataset"
   ]
  },
  {
   "cell_type": "code",
   "execution_count": 5,
   "id": "cdd69117",
   "metadata": {},
   "outputs": [],
   "source": [
    "cancer=datasets.load_breast_cancer()"
   ]
  },
  {
   "cell_type": "markdown",
   "id": "2876a07e",
   "metadata": {},
   "source": [
    "### Step 3 : Explore the Dataset"
   ]
  },
  {
   "cell_type": "code",
   "execution_count": 6,
   "id": "aac6b9be",
   "metadata": {},
   "outputs": [
    {
     "name": "stdout",
     "output_type": "stream",
     "text": [
      "Features :  ['mean radius' 'mean texture' 'mean perimeter' 'mean area'\n",
      " 'mean smoothness' 'mean compactness' 'mean concavity'\n",
      " 'mean concave points' 'mean symmetry' 'mean fractal dimension'\n",
      " 'radius error' 'texture error' 'perimeter error' 'area error'\n",
      " 'smoothness error' 'compactness error' 'concavity error'\n",
      " 'concave points error' 'symmetry error' 'fractal dimension error'\n",
      " 'worst radius' 'worst texture' 'worst perimeter' 'worst area'\n",
      " 'worst smoothness' 'worst compactness' 'worst concavity'\n",
      " 'worst concave points' 'worst symmetry' 'worst fractal dimension']\n"
     ]
    }
   ],
   "source": [
    "#Print the features of dataset\n",
    "print(\"Features : \" ,cancer.feature_names)"
   ]
  },
  {
   "cell_type": "code",
   "execution_count": 7,
   "id": "b93e9046",
   "metadata": {},
   "outputs": [
    {
     "name": "stdout",
     "output_type": "stream",
     "text": [
      "Target Values :  ['malignant' 'benign']\n"
     ]
    }
   ],
   "source": [
    "#Print Target Values\n",
    "print(\"Target Values : \" , cancer.target_names)"
   ]
  },
  {
   "cell_type": "markdown",
   "id": "26364368",
   "metadata": {},
   "source": [
    "### Step 4 : Divide the Data"
   ]
  },
  {
   "cell_type": "code",
   "execution_count": 10,
   "id": "3bb84862",
   "metadata": {},
   "outputs": [],
   "source": [
    "X_train,X_test,y_train,y_test = train_test_split(cancer.data,cancer.target,test_size=0.2)"
   ]
  },
  {
   "cell_type": "code",
   "execution_count": 12,
   "id": "91379ce5",
   "metadata": {},
   "outputs": [
    {
     "name": "stdout",
     "output_type": "stream",
     "text": [
      "(455, 30)\n",
      "(114, 30)\n",
      "(455,)\n",
      "(114,)\n"
     ]
    }
   ],
   "source": [
    "print(X_train.shape)\n",
    "print(X_test.shape)\n",
    "\n",
    "print(y_train.shape)\n",
    "print(y_test.shape)"
   ]
  },
  {
   "cell_type": "markdown",
   "id": "97b2f6b1",
   "metadata": {},
   "source": [
    "### Step 5 : Build the SVM Model"
   ]
  },
  {
   "cell_type": "code",
   "execution_count": 13,
   "id": "e981617f",
   "metadata": {},
   "outputs": [],
   "source": [
    "svmmodel1=svm.SVC(kernel=\"linear\")\n",
    "svmmodel2=svm.SVC(kernel=\"rbf\")\n",
    "svmmodel3=svm.SVC(kernel=\"poly\")"
   ]
  },
  {
   "cell_type": "code",
   "execution_count": 14,
   "id": "043b0872",
   "metadata": {},
   "outputs": [
    {
     "data": {
      "text/plain": [
       "SVC(kernel='poly')"
      ]
     },
     "execution_count": 14,
     "metadata": {},
     "output_type": "execute_result"
    }
   ],
   "source": [
    "svmmodel1.fit(X_train,y_train)\n",
    "svmmodel2.fit(X_train,y_train)\n",
    "svmmodel3.fit(X_train,y_train)"
   ]
  },
  {
   "cell_type": "markdown",
   "id": "5f20d6ab",
   "metadata": {},
   "source": [
    "### Step 6 : Do the Prediction"
   ]
  },
  {
   "cell_type": "code",
   "execution_count": 15,
   "id": "4c190bc8",
   "metadata": {},
   "outputs": [],
   "source": [
    "y_pred1=svmmodel1.predict(X_test)\n",
    "y_pred2=svmmodel2.predict(X_test)\n",
    "y_pred3=svmmodel3.predict(X_test)"
   ]
  },
  {
   "cell_type": "markdown",
   "id": "7621cea5",
   "metadata": {},
   "source": [
    "### Step 7 : Evaluate the Model"
   ]
  },
  {
   "cell_type": "code",
   "execution_count": 17,
   "id": "edca3daa",
   "metadata": {},
   "outputs": [
    {
     "name": "stdout",
     "output_type": "stream",
     "text": [
      "Model1 accuracy: 0.9649122807017544\n",
      "Model2 accuracy: 0.9385964912280702\n",
      "Model3 accuracy: 0.9298245614035088\n"
     ]
    }
   ],
   "source": [
    "#Check Accuracy\n",
    "print(\"Model1 accuracy:\",metrics.accuracy_score(y_pred1,y_test))\n",
    "print(\"Model2 accuracy:\",metrics.accuracy_score(y_pred2,y_test))\n",
    "print(\"Model3 accuracy:\",metrics.accuracy_score(y_pred3,y_test))"
   ]
  },
  {
   "cell_type": "code",
   "execution_count": 19,
   "id": "a8ab169b",
   "metadata": {},
   "outputs": [
    {
     "name": "stdout",
     "output_type": "stream",
     "text": [
      "Model1 precision: 0.9864864864864865\n",
      "Model2 precision: 1.0\n",
      "Model3 precision: 0.9864864864864865\n"
     ]
    }
   ],
   "source": [
    "#Check Precision Score\n",
    "print(\"Model1 precision:\",metrics.precision_score(y_pred1,y_test))\n",
    "print(\"Model2 precision:\",metrics.precision_score(y_pred2,y_test))\n",
    "print(\"Model3 precision:\",metrics.precision_score(y_pred3,y_test))"
   ]
  },
  {
   "cell_type": "code",
   "execution_count": 20,
   "id": "df4d05ba",
   "metadata": {},
   "outputs": [
    {
     "name": "stdout",
     "output_type": "stream",
     "text": [
      "Model1 recall: 0.9605263157894737\n",
      "Model2 recall: 0.9135802469135802\n",
      "Model3 recall: 0.9125\n"
     ]
    }
   ],
   "source": [
    "#Check Recall Score\n",
    "print(\"Model1 recall:\",metrics.recall_score(y_pred1,y_test))\n",
    "print(\"Model2 recall:\",metrics.recall_score(y_pred2,y_test))\n",
    "print(\"Model3 recall:\",metrics.recall_score(y_pred3,y_test))"
   ]
  },
  {
   "cell_type": "markdown",
   "id": "b2510c4c",
   "metadata": {},
   "source": [
    "##### Conclusion - after building 3 different versions of SVM , we have recieved best performance with the help \"linear\" kernal so prefer svmmodel1 for final deployment"
   ]
  },
  {
   "cell_type": "code",
   "execution_count": 21,
   "id": "f7cc816f",
   "metadata": {},
   "outputs": [],
   "source": [
    "import pickle"
   ]
  },
  {
   "cell_type": "code",
   "execution_count": 24,
   "id": "1f5d6088",
   "metadata": {},
   "outputs": [],
   "source": [
    "#Save the Model\n",
    "pickle.dump(svmmodel1,open('svmodel1_linear.sav','wb'))"
   ]
  },
  {
   "cell_type": "code",
   "execution_count": 26,
   "id": "baacef15",
   "metadata": {},
   "outputs": [],
   "source": [
    "#Load The Model\n",
    "svmmodel4 = pickle.load(open('svmodel1_linear.sav','rb'))"
   ]
  },
  {
   "cell_type": "code",
   "execution_count": 27,
   "id": "13ac8da1",
   "metadata": {},
   "outputs": [
    {
     "data": {
      "text/plain": [
       "array([1, 1, 1, 0, 1, 1, 1, 1, 1, 1, 0, 1, 1, 1, 1, 1, 1, 0, 1, 1, 0, 1,\n",
       "       0, 0, 1, 1, 0, 1, 1, 1, 1, 1, 0, 0, 1, 0, 1, 1, 1, 1, 0, 0, 1, 1,\n",
       "       0, 1, 0, 0, 0, 1, 0, 1, 1, 1, 0, 1, 1, 1, 1, 1, 1, 1, 0, 1, 1, 0,\n",
       "       1, 0, 0, 0, 1, 1, 1, 0, 1, 0, 1, 0, 1, 1, 1, 0, 1, 1, 0, 1, 0, 0,\n",
       "       1, 1, 0, 1, 1, 1, 0, 1, 0, 1, 1, 1, 1, 0, 1, 1, 0, 1, 0, 1, 0, 1,\n",
       "       1, 0, 1, 1])"
      ]
     },
     "execution_count": 27,
     "metadata": {},
     "output_type": "execute_result"
    }
   ],
   "source": [
    "svmmodel4.predict(X_test)"
   ]
  },
  {
   "cell_type": "code",
   "execution_count": null,
   "id": "c76341f9",
   "metadata": {},
   "outputs": [],
   "source": []
  }
 ],
 "metadata": {
  "kernelspec": {
   "display_name": "Python 3",
   "language": "python",
   "name": "python3"
  },
  "language_info": {
   "codemirror_mode": {
    "name": "ipython",
    "version": 3
   },
   "file_extension": ".py",
   "mimetype": "text/x-python",
   "name": "python",
   "nbconvert_exporter": "python",
   "pygments_lexer": "ipython3",
   "version": "3.8.8"
  }
 },
 "nbformat": 4,
 "nbformat_minor": 5
}

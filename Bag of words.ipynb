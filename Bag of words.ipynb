{
 "cells": [
  {
   "cell_type": "markdown",
   "id": "490376e0",
   "metadata": {},
   "source": [
    "## Bag of Words"
   ]
  },
  {
   "cell_type": "markdown",
   "id": "daa3e79e",
   "metadata": {},
   "source": [
    "##### Bag of Words model is used to preprocess the text by converting it into a bag of words, which keeps a count of the total occurrences of most frequently used words."
   ]
  },
  {
   "cell_type": "markdown",
   "id": "eaed9730",
   "metadata": {},
   "source": [
    "### Count Vectorizer"
   ]
  },
  {
   "cell_type": "code",
   "execution_count": 1,
   "id": "87c118af",
   "metadata": {},
   "outputs": [],
   "source": [
    "from sklearn.feature_extraction.text import CountVectorizer"
   ]
  },
  {
   "cell_type": "code",
   "execution_count": 2,
   "id": "09283805",
   "metadata": {},
   "outputs": [],
   "source": [
    "#List of text Documents\n",
    "text1 = [\"Hello, My name is Divya and I am a machine learner\"]\n",
    "text2 = [\"Machine learning is a branch of artificial intelligence\"]"
   ]
  },
  {
   "cell_type": "code",
   "execution_count": 3,
   "id": "7dd83c75",
   "metadata": {},
   "outputs": [],
   "source": [
    "#Create the transform\n",
    "vectorizer = CountVectorizer()"
   ]
  },
  {
   "cell_type": "code",
   "execution_count": 4,
   "id": "a4fb9ca4",
   "metadata": {},
   "outputs": [
    {
     "data": {
      "text/plain": [
       "CountVectorizer()"
      ]
     },
     "execution_count": 4,
     "metadata": {},
     "output_type": "execute_result"
    }
   ],
   "source": [
    "#Tokenize and Build Vocabulary\n",
    "vectorizer.fit(text1)"
   ]
  },
  {
   "cell_type": "code",
   "execution_count": 5,
   "id": "e7ec8539",
   "metadata": {},
   "outputs": [
    {
     "name": "stdout",
     "output_type": "stream",
     "text": [
      "{'hello': 3, 'my': 7, 'name': 8, 'is': 4, 'divya': 2, 'and': 1, 'am': 0, 'machine': 6, 'learner': 5}\n"
     ]
    }
   ],
   "source": [
    "#Summarize\n",
    "print(vectorizer.vocabulary_)"
   ]
  },
  {
   "cell_type": "code",
   "execution_count": 6,
   "id": "3a2faf42",
   "metadata": {},
   "outputs": [],
   "source": [
    "#Encode Document\n",
    "newvector = vectorizer.transform((text2))"
   ]
  },
  {
   "cell_type": "code",
   "execution_count": 7,
   "id": "c4a9ef35",
   "metadata": {},
   "outputs": [
    {
     "name": "stdout",
     "output_type": "stream",
     "text": [
      "[[0 0 0 0 1 0 1 0 0]]\n"
     ]
    }
   ],
   "source": [
    "#Summarize Encoded Vector\n",
    "print(newvector.toarray())"
   ]
  },
  {
   "cell_type": "markdown",
   "id": "97cfbb01",
   "metadata": {},
   "source": [
    "## TF_IDF"
   ]
  },
  {
   "cell_type": "code",
   "execution_count": 8,
   "id": "932fcb00",
   "metadata": {},
   "outputs": [],
   "source": [
    "from sklearn.feature_extraction.text import TfidfVectorizer"
   ]
  },
  {
   "cell_type": "code",
   "execution_count": 10,
   "id": "be554cf5",
   "metadata": {},
   "outputs": [],
   "source": [
    "#List of text Documents\n",
    "text = [\"Divya is a machine learner\", \"Machine Learning is a branch of Artificial Intelligence\",\"Machine Learning uses various Algorithms\"]"
   ]
  },
  {
   "cell_type": "code",
   "execution_count": 11,
   "id": "0b896cd1",
   "metadata": {},
   "outputs": [],
   "source": [
    "#Create the Transform\n",
    "vectorizer = TfidfVectorizer()"
   ]
  },
  {
   "cell_type": "code",
   "execution_count": 12,
   "id": "0e124586",
   "metadata": {},
   "outputs": [
    {
     "data": {
      "text/plain": [
       "TfidfVectorizer()"
      ]
     },
     "execution_count": 12,
     "metadata": {},
     "output_type": "execute_result"
    }
   ],
   "source": [
    "#Fit it\n",
    "vectorizer.fit(text)"
   ]
  },
  {
   "cell_type": "code",
   "execution_count": 13,
   "id": "9c67bafd",
   "metadata": {},
   "outputs": [
    {
     "name": "stdout",
     "output_type": "stream",
     "text": [
      "[1.69314718 1.69314718 1.69314718 1.69314718 1.69314718 1.28768207\n",
      " 1.69314718 1.28768207 1.         1.69314718 1.69314718 1.69314718]\n"
     ]
    }
   ],
   "source": [
    "#Tokenize and build Vocab\n",
    "print(vectorizer.idf_)"
   ]
  },
  {
   "cell_type": "code",
   "execution_count": 14,
   "id": "0da03602",
   "metadata": {},
   "outputs": [
    {
     "name": "stdout",
     "output_type": "stream",
     "text": [
      "{'divya': 3, 'is': 5, 'machine': 8, 'learner': 6, 'learning': 7, 'branch': 2, 'of': 9, 'artificial': 1, 'intelligence': 4, 'uses': 10, 'various': 11, 'algorithms': 0}\n"
     ]
    }
   ],
   "source": [
    "#Summarize\n",
    "print(vectorizer.vocabulary_)"
   ]
  },
  {
   "cell_type": "code",
   "execution_count": 15,
   "id": "28539683",
   "metadata": {},
   "outputs": [],
   "source": [
    "#Take second Sentense from text\n",
    "text_as_input = text[2]"
   ]
  },
  {
   "cell_type": "code",
   "execution_count": 16,
   "id": "c4521ac6",
   "metadata": {},
   "outputs": [
    {
     "data": {
      "text/plain": [
       "'Machine Learning uses various Algorithms'"
      ]
     },
     "execution_count": 16,
     "metadata": {},
     "output_type": "execute_result"
    }
   ],
   "source": [
    "text_as_input"
   ]
  },
  {
   "cell_type": "code",
   "execution_count": 17,
   "id": "131a07bc",
   "metadata": {},
   "outputs": [],
   "source": [
    "#encode document\n",
    "vector = vectorizer.transform([text_as_input])"
   ]
  },
  {
   "cell_type": "code",
   "execution_count": 18,
   "id": "aca4720c",
   "metadata": {},
   "outputs": [
    {
     "name": "stdout",
     "output_type": "stream",
     "text": [
      "[[0.50461134 0.         0.         0.         0.         0.\n",
      "  0.         0.38376993 0.29803159 0.         0.50461134 0.50461134]]\n"
     ]
    }
   ],
   "source": [
    "#Summarize Encoded Vector\n",
    "print(vector.toarray())"
   ]
  }
 ],
 "metadata": {
  "kernelspec": {
   "display_name": "Python 3 (ipykernel)",
   "language": "python",
   "name": "python3"
  },
  "language_info": {
   "codemirror_mode": {
    "name": "ipython",
    "version": 3
   },
   "file_extension": ".py",
   "mimetype": "text/x-python",
   "name": "python",
   "nbconvert_exporter": "python",
   "pygments_lexer": "ipython3",
   "version": "3.9.7"
  }
 },
 "nbformat": 4,
 "nbformat_minor": 5
}

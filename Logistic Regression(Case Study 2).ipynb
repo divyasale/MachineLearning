{
 "cells": [
  {
   "cell_type": "markdown",
   "id": "a3ef0855",
   "metadata": {},
   "source": [
    "### Import required libraries"
   ]
  },
  {
   "cell_type": "code",
   "execution_count": 12,
   "id": "591618f7",
   "metadata": {},
   "outputs": [],
   "source": [
    "import matplotlib.pyplot as plt\n",
    "from sklearn.datasets import make_classification\n",
    "from sklearn.linear_model import LogisticRegression\n",
    "from sklearn.model_selection import train_test_split\n",
    "from sklearn.metrics import roc_curve\n",
    "from sklearn.metrics import roc_auc_score"
   ]
  },
  {
   "cell_type": "code",
   "execution_count": 4,
   "id": "53a5c139",
   "metadata": {},
   "outputs": [],
   "source": [
    "###In these case study we take internal dataset which is present in sklearn"
   ]
  },
  {
   "cell_type": "markdown",
   "id": "0438193f",
   "metadata": {},
   "source": [
    "### Divide dataset into input and output"
   ]
  },
  {
   "cell_type": "code",
   "execution_count": 5,
   "id": "b70fa275",
   "metadata": {},
   "outputs": [],
   "source": [
    "X,y = make_classification(n_samples=1000,n_classes=2,n_features=20,random_state=None)"
   ]
  },
  {
   "cell_type": "code",
   "execution_count": 6,
   "id": "a0bd199c",
   "metadata": {},
   "outputs": [
    {
     "data": {
      "text/plain": [
       "(1000, 20)"
      ]
     },
     "execution_count": 6,
     "metadata": {},
     "output_type": "execute_result"
    }
   ],
   "source": [
    "X.shape"
   ]
  },
  {
   "cell_type": "code",
   "execution_count": 7,
   "id": "4a3d4e11",
   "metadata": {},
   "outputs": [
    {
     "data": {
      "text/plain": [
       "(1000,)"
      ]
     },
     "execution_count": 7,
     "metadata": {},
     "output_type": "execute_result"
    }
   ],
   "source": [
    "y.shape"
   ]
  },
  {
   "cell_type": "markdown",
   "id": "7226c3cd",
   "metadata": {},
   "source": [
    "### Divide DataSet into training and testing"
   ]
  },
  {
   "cell_type": "code",
   "execution_count": 8,
   "id": "9cdd6075",
   "metadata": {},
   "outputs": [],
   "source": [
    "X_train,X_test,y_train,y_test=train_test_split(X,y,test_size=0.3)"
   ]
  },
  {
   "cell_type": "code",
   "execution_count": 9,
   "id": "634e8bb6",
   "metadata": {},
   "outputs": [
    {
     "name": "stdout",
     "output_type": "stream",
     "text": [
      "(700, 20)\n",
      "(700,)\n",
      "(300, 20)\n",
      "(300,)\n"
     ]
    }
   ],
   "source": [
    "print(X_train.shape)\n",
    "print(y_train.shape)\n",
    "print(X_test.shape)\n",
    "print(y_test.shape)"
   ]
  },
  {
   "cell_type": "markdown",
   "id": "938a1255",
   "metadata": {},
   "source": [
    "### Train the Model"
   ]
  },
  {
   "cell_type": "code",
   "execution_count": 13,
   "id": "b6bc982d",
   "metadata": {},
   "outputs": [],
   "source": [
    "mcmodel=LogisticRegression()"
   ]
  },
  {
   "cell_type": "code",
   "execution_count": 14,
   "id": "9d08fe4d",
   "metadata": {},
   "outputs": [
    {
     "data": {
      "text/plain": [
       "LogisticRegression()"
      ]
     },
     "execution_count": 14,
     "metadata": {},
     "output_type": "execute_result"
    }
   ],
   "source": [
    "mcmodel.fit(X_train,y_train)"
   ]
  },
  {
   "cell_type": "markdown",
   "id": "adaeb30a",
   "metadata": {},
   "source": [
    "### Predict the Probabilities"
   ]
  },
  {
   "cell_type": "code",
   "execution_count": 15,
   "id": "8acf9c0c",
   "metadata": {},
   "outputs": [],
   "source": [
    "pred_prob = mcmodel.predict_proba(X_test)"
   ]
  },
  {
   "cell_type": "code",
   "execution_count": 16,
   "id": "d760d5ac",
   "metadata": {},
   "outputs": [
    {
     "data": {
      "text/plain": [
       "array([[9.72140877e-01, 2.78591229e-02],\n",
       "       [9.99991008e-01, 8.99160335e-06],\n",
       "       [9.82624781e-01, 1.73752188e-02],\n",
       "       [2.96899546e-03, 9.97031005e-01],\n",
       "       [9.89546355e-04, 9.99010454e-01],\n",
       "       [2.62015654e-01, 7.37984346e-01],\n",
       "       [9.99482842e-01, 5.17157765e-04],\n",
       "       [1.21598929e-01, 8.78401071e-01],\n",
       "       [1.38661409e-01, 8.61338591e-01],\n",
       "       [5.19762006e-03, 9.94802380e-01],\n",
       "       [7.71694048e-01, 2.28305952e-01],\n",
       "       [9.99068824e-01, 9.31176371e-04],\n",
       "       [9.97684100e-01, 2.31589967e-03],\n",
       "       [1.23361856e-01, 8.76638144e-01],\n",
       "       [2.27645877e-02, 9.77235412e-01],\n",
       "       [3.46384457e-01, 6.53615543e-01],\n",
       "       [2.73375375e-01, 7.26624625e-01],\n",
       "       [9.41925505e-02, 9.05807450e-01],\n",
       "       [1.54789951e-01, 8.45210049e-01],\n",
       "       [5.61369808e-04, 9.99438630e-01],\n",
       "       [9.99013861e-01, 9.86139444e-04],\n",
       "       [9.61070487e-01, 3.89295135e-02],\n",
       "       [1.31952690e-03, 9.98680473e-01],\n",
       "       [9.98787413e-01, 1.21258703e-03],\n",
       "       [9.97320540e-01, 2.67945956e-03],\n",
       "       [9.99536341e-01, 4.63659488e-04],\n",
       "       [8.69913599e-01, 1.30086401e-01],\n",
       "       [6.72892015e-02, 9.32710799e-01],\n",
       "       [1.36062349e-02, 9.86393765e-01],\n",
       "       [9.46169456e-01, 5.38305443e-02],\n",
       "       [9.87172815e-04, 9.99012827e-01],\n",
       "       [7.19472448e-01, 2.80527552e-01],\n",
       "       [3.31152139e-02, 9.66884786e-01],\n",
       "       [9.99764826e-01, 2.35174272e-04],\n",
       "       [9.96664900e-01, 3.33509959e-03],\n",
       "       [2.87739777e-04, 9.99712260e-01],\n",
       "       [1.24409172e-01, 8.75590828e-01],\n",
       "       [8.56127633e-01, 1.43872367e-01],\n",
       "       [1.27359741e-01, 8.72640259e-01],\n",
       "       [9.29264381e-01, 7.07356190e-02],\n",
       "       [4.77635696e-02, 9.52236430e-01],\n",
       "       [1.96072586e-02, 9.80392741e-01],\n",
       "       [3.51171476e-02, 9.64882852e-01],\n",
       "       [7.64623947e-02, 9.23537605e-01],\n",
       "       [9.84521549e-01, 1.54784505e-02],\n",
       "       [9.99942911e-01, 5.70892634e-05],\n",
       "       [2.56171075e-02, 9.74382892e-01],\n",
       "       [9.43207856e-01, 5.67921435e-02],\n",
       "       [1.88328092e-01, 8.11671908e-01],\n",
       "       [9.90343125e-01, 9.65687549e-03],\n",
       "       [9.99366948e-01, 6.33052059e-04],\n",
       "       [9.96765989e-01, 3.23401140e-03],\n",
       "       [9.99908780e-01, 9.12197752e-05],\n",
       "       [9.99998760e-01, 1.24044164e-06],\n",
       "       [1.56882403e-01, 8.43117597e-01],\n",
       "       [2.13866514e-01, 7.86133486e-01],\n",
       "       [1.27410494e-02, 9.87258951e-01],\n",
       "       [2.02266571e-01, 7.97733429e-01],\n",
       "       [8.97089291e-03, 9.91029107e-01],\n",
       "       [1.67680142e-02, 9.83231986e-01],\n",
       "       [6.02139717e-01, 3.97860283e-01],\n",
       "       [6.66018089e-02, 9.33398191e-01],\n",
       "       [9.98620122e-01, 1.37987820e-03],\n",
       "       [1.64633428e-02, 9.83536657e-01],\n",
       "       [1.00620419e-01, 8.99379581e-01],\n",
       "       [9.18067670e-01, 8.19323298e-02],\n",
       "       [9.59674670e-01, 4.03253300e-02],\n",
       "       [9.99996745e-01, 3.25530757e-06],\n",
       "       [9.56457791e-01, 4.35422088e-02],\n",
       "       [9.95621643e-01, 4.37835703e-03],\n",
       "       [5.68368734e-02, 9.43163127e-01],\n",
       "       [4.24271890e-01, 5.75728110e-01],\n",
       "       [9.98309634e-01, 1.69036644e-03],\n",
       "       [9.55890722e-01, 4.41092784e-02],\n",
       "       [1.15180513e-01, 8.84819487e-01],\n",
       "       [3.66708496e-01, 6.33291504e-01],\n",
       "       [9.36702137e-01, 6.32978628e-02],\n",
       "       [3.30221202e-02, 9.66977880e-01],\n",
       "       [5.66036968e-02, 9.43396303e-01],\n",
       "       [1.13519171e-03, 9.98864808e-01],\n",
       "       [9.96622684e-01, 3.37731610e-03],\n",
       "       [1.04587823e-01, 8.95412177e-01],\n",
       "       [9.99846361e-01, 1.53638913e-04],\n",
       "       [1.06403498e-01, 8.93596502e-01],\n",
       "       [9.99841643e-01, 1.58356920e-04],\n",
       "       [2.96211394e-02, 9.70378861e-01],\n",
       "       [2.40673308e-01, 7.59326692e-01],\n",
       "       [1.52416343e-02, 9.84758366e-01],\n",
       "       [2.65606395e-04, 9.99734394e-01],\n",
       "       [9.96873997e-01, 3.12600271e-03],\n",
       "       [9.90103002e-01, 9.89699803e-03],\n",
       "       [6.96842602e-01, 3.03157398e-01],\n",
       "       [3.04211323e-02, 9.69578868e-01],\n",
       "       [8.99104727e-01, 1.00895273e-01],\n",
       "       [9.60389454e-01, 3.96105455e-02],\n",
       "       [2.42907536e-01, 7.57092464e-01],\n",
       "       [9.91008793e-01, 8.99120710e-03],\n",
       "       [9.98992680e-01, 1.00731959e-03],\n",
       "       [3.54624721e-01, 6.45375279e-01],\n",
       "       [2.30095468e-02, 9.76990453e-01],\n",
       "       [6.80394526e-02, 9.31960547e-01],\n",
       "       [2.89103700e-02, 9.71089630e-01],\n",
       "       [8.23938582e-02, 9.17606142e-01],\n",
       "       [2.48828326e-02, 9.75117167e-01],\n",
       "       [9.93108329e-01, 6.89167105e-03],\n",
       "       [5.13838897e-02, 9.48616110e-01],\n",
       "       [9.67740438e-01, 3.22595622e-02],\n",
       "       [9.90617289e-01, 9.38271143e-03],\n",
       "       [9.43688328e-01, 5.63116721e-02],\n",
       "       [9.05384424e-02, 9.09461558e-01],\n",
       "       [8.87607465e-01, 1.12392535e-01],\n",
       "       [9.29631379e-01, 7.03686207e-02],\n",
       "       [1.49957881e-01, 8.50042119e-01],\n",
       "       [9.52657900e-01, 4.73421005e-02],\n",
       "       [2.81894201e-02, 9.71810580e-01],\n",
       "       [9.88599877e-01, 1.14001231e-02],\n",
       "       [9.64149678e-01, 3.58503224e-02],\n",
       "       [9.99211302e-01, 7.88698006e-04],\n",
       "       [9.39610555e-01, 6.03894445e-02],\n",
       "       [3.62059626e-02, 9.63794037e-01],\n",
       "       [9.99946712e-01, 5.32878562e-05],\n",
       "       [9.43032802e-01, 5.69671982e-02],\n",
       "       [7.11861259e-02, 9.28813874e-01],\n",
       "       [1.80618847e-01, 8.19381153e-01],\n",
       "       [1.27074617e-01, 8.72925383e-01],\n",
       "       [3.11876337e-01, 6.88123663e-01],\n",
       "       [5.12957968e-02, 9.48704203e-01],\n",
       "       [9.97509997e-01, 2.49000262e-03],\n",
       "       [1.92390541e-01, 8.07609459e-01],\n",
       "       [5.25915165e-02, 9.47408483e-01],\n",
       "       [1.96965776e-02, 9.80303422e-01],\n",
       "       [9.93211905e-01, 6.78809458e-03],\n",
       "       [9.98811500e-01, 1.18850020e-03],\n",
       "       [1.06133657e-01, 8.93866343e-01],\n",
       "       [1.08084670e-01, 8.91915330e-01],\n",
       "       [5.32286460e-02, 9.46771354e-01],\n",
       "       [9.31111763e-01, 6.88882369e-02],\n",
       "       [1.14678075e-03, 9.98853219e-01],\n",
       "       [1.49338278e-01, 8.50661722e-01],\n",
       "       [7.63332928e-01, 2.36667072e-01],\n",
       "       [9.85453175e-01, 1.45468250e-02],\n",
       "       [9.99779258e-01, 2.20742182e-04],\n",
       "       [9.84045226e-01, 1.59547739e-02],\n",
       "       [9.97700348e-01, 2.29965250e-03],\n",
       "       [1.47208856e-01, 8.52791144e-01],\n",
       "       [4.13461631e-02, 9.58653837e-01],\n",
       "       [5.74114690e-02, 9.42588531e-01],\n",
       "       [7.55666326e-02, 9.24433367e-01],\n",
       "       [9.93832271e-01, 6.16772915e-03],\n",
       "       [3.94420478e-02, 9.60557952e-01],\n",
       "       [9.48794224e-02, 9.05120578e-01],\n",
       "       [4.40700720e-01, 5.59299280e-01],\n",
       "       [3.42373460e-01, 6.57626540e-01],\n",
       "       [4.49040453e-02, 9.55095955e-01],\n",
       "       [8.19030605e-02, 9.18096940e-01],\n",
       "       [2.58020400e-03, 9.97419796e-01],\n",
       "       [8.89493447e-03, 9.91105066e-01],\n",
       "       [1.32647220e-01, 8.67352780e-01],\n",
       "       [1.08169496e-01, 8.91830504e-01],\n",
       "       [3.74007277e-01, 6.25992723e-01],\n",
       "       [9.76072421e-01, 2.39275790e-02],\n",
       "       [1.89294149e-02, 9.81070585e-01],\n",
       "       [9.81899407e-01, 1.81005926e-02],\n",
       "       [8.15641423e-02, 9.18435858e-01],\n",
       "       [6.95673329e-01, 3.04326671e-01],\n",
       "       [9.99848524e-01, 1.51475549e-04],\n",
       "       [1.46196257e-01, 8.53803743e-01],\n",
       "       [3.61918787e-01, 6.38081213e-01],\n",
       "       [8.21151415e-02, 9.17884858e-01],\n",
       "       [2.40429434e-01, 7.59570566e-01],\n",
       "       [9.56277185e-02, 9.04372282e-01],\n",
       "       [9.95405274e-01, 4.59472603e-03],\n",
       "       [9.99396615e-01, 6.03384612e-04],\n",
       "       [9.99676141e-01, 3.23858779e-04],\n",
       "       [9.91748607e-01, 8.25139274e-03],\n",
       "       [7.42860831e-02, 9.25713917e-01],\n",
       "       [9.98028160e-01, 1.97184035e-03],\n",
       "       [2.01477085e-01, 7.98522915e-01],\n",
       "       [9.99716615e-01, 2.83385248e-04],\n",
       "       [2.87505656e-03, 9.97124943e-01],\n",
       "       [5.02789570e-02, 9.49721043e-01],\n",
       "       [3.73973789e-02, 9.62602621e-01],\n",
       "       [9.53831968e-01, 4.61680324e-02],\n",
       "       [9.77744749e-01, 2.22552510e-02],\n",
       "       [1.60495613e-01, 8.39504387e-01],\n",
       "       [5.96799656e-01, 4.03200344e-01],\n",
       "       [5.81415164e-02, 9.41858484e-01],\n",
       "       [2.60715553e-02, 9.73928445e-01],\n",
       "       [9.99245776e-01, 7.54223822e-04],\n",
       "       [4.14252069e-01, 5.85747931e-01],\n",
       "       [2.37941394e-01, 7.62058606e-01],\n",
       "       [4.06741147e-02, 9.59325885e-01],\n",
       "       [3.58771471e-01, 6.41228529e-01],\n",
       "       [7.84576751e-02, 9.21542325e-01],\n",
       "       [5.39653733e-01, 4.60346267e-01],\n",
       "       [5.30649891e-01, 4.69350109e-01],\n",
       "       [1.21024025e-01, 8.78975975e-01],\n",
       "       [9.94022820e-01, 5.97717972e-03],\n",
       "       [9.92912941e-01, 7.08705854e-03],\n",
       "       [3.28264491e-01, 6.71735509e-01],\n",
       "       [9.93523705e-01, 6.47629479e-03],\n",
       "       [7.35187979e-01, 2.64812021e-01],\n",
       "       [3.63359816e-04, 9.99636640e-01],\n",
       "       [2.35583726e-01, 7.64416274e-01],\n",
       "       [7.95390902e-02, 9.20460910e-01],\n",
       "       [9.99992024e-01, 7.97595421e-06],\n",
       "       [9.99168480e-01, 8.31520424e-04],\n",
       "       [9.91390619e-01, 8.60938074e-03],\n",
       "       [9.99675515e-01, 3.24484964e-04],\n",
       "       [1.27944739e-01, 8.72055261e-01],\n",
       "       [2.29557605e-01, 7.70442395e-01],\n",
       "       [9.72191405e-01, 2.78085951e-02],\n",
       "       [9.99374641e-01, 6.25359142e-04],\n",
       "       [4.55791131e-02, 9.54420887e-01],\n",
       "       [9.61569643e-01, 3.84303567e-02],\n",
       "       [5.92053671e-02, 9.40794633e-01],\n",
       "       [6.14760375e-02, 9.38523963e-01],\n",
       "       [2.35502341e-01, 7.64497659e-01],\n",
       "       [9.15546166e-01, 8.44538338e-02],\n",
       "       [1.05129470e-01, 8.94870530e-01],\n",
       "       [1.11035904e-01, 8.88964096e-01],\n",
       "       [5.65868181e-01, 4.34131819e-01],\n",
       "       [1.83618856e-01, 8.16381144e-01],\n",
       "       [9.99997888e-01, 2.11176879e-06],\n",
       "       [9.72516740e-01, 2.74832602e-02],\n",
       "       [4.35579503e-01, 5.64420497e-01],\n",
       "       [9.99975178e-01, 2.48218183e-05],\n",
       "       [9.99776548e-01, 2.23452460e-04],\n",
       "       [1.14472346e-01, 8.85527654e-01],\n",
       "       [7.38703418e-01, 2.61296582e-01],\n",
       "       [9.51869848e-01, 4.81301524e-02],\n",
       "       [3.78187633e-03, 9.96218124e-01],\n",
       "       [2.06717699e-01, 7.93282301e-01],\n",
       "       [4.25165762e-02, 9.57483424e-01],\n",
       "       [9.99982024e-01, 1.79756877e-05],\n",
       "       [6.52331060e-01, 3.47668940e-01],\n",
       "       [2.06456852e-01, 7.93543148e-01],\n",
       "       [1.38350206e-01, 8.61649794e-01],\n",
       "       [8.39872306e-03, 9.91601277e-01],\n",
       "       [9.98559686e-01, 1.44031355e-03],\n",
       "       [9.98904058e-01, 1.09594247e-03],\n",
       "       [5.49168153e-02, 9.45083185e-01],\n",
       "       [1.80592234e-02, 9.81940777e-01],\n",
       "       [1.42671521e-01, 8.57328479e-01],\n",
       "       [9.99796188e-01, 2.03811861e-04],\n",
       "       [9.99652260e-01, 3.47740101e-04],\n",
       "       [8.53291063e-01, 1.46708937e-01],\n",
       "       [2.08826601e-02, 9.79117340e-01],\n",
       "       [1.13539521e-01, 8.86460479e-01],\n",
       "       [1.81341345e-01, 8.18658655e-01],\n",
       "       [7.60830450e-01, 2.39169550e-01],\n",
       "       [9.96366138e-01, 3.63386207e-03],\n",
       "       [7.35074921e-01, 2.64925079e-01],\n",
       "       [8.19798907e-02, 9.18020109e-01],\n",
       "       [1.45715780e-01, 8.54284220e-01],\n",
       "       [4.59868263e-02, 9.54013174e-01],\n",
       "       [1.28328218e-01, 8.71671782e-01],\n",
       "       [3.69243489e-03, 9.96307565e-01],\n",
       "       [8.22676798e-02, 9.17732320e-01],\n",
       "       [9.70265932e-01, 2.97340682e-02],\n",
       "       [6.98833511e-03, 9.93011665e-01],\n",
       "       [3.59517238e-01, 6.40482762e-01],\n",
       "       [8.64040417e-01, 1.35959583e-01],\n",
       "       [9.88964959e-01, 1.10350407e-02],\n",
       "       [9.92671451e-01, 7.32854880e-03],\n",
       "       [1.88581107e-02, 9.81141889e-01],\n",
       "       [6.69411153e-01, 3.30588847e-01],\n",
       "       [5.45382084e-02, 9.45461792e-01],\n",
       "       [9.99694910e-01, 3.05090042e-04],\n",
       "       [9.88564968e-01, 1.14350319e-02],\n",
       "       [9.99668112e-01, 3.31888218e-04],\n",
       "       [4.44739087e-02, 9.55526091e-01],\n",
       "       [9.97024096e-01, 2.97590378e-03],\n",
       "       [9.02207845e-02, 9.09779215e-01],\n",
       "       [9.85267974e-01, 1.47320259e-02],\n",
       "       [1.45107319e-02, 9.85489268e-01],\n",
       "       [9.99521633e-01, 4.78366825e-04],\n",
       "       [9.49369487e-01, 5.06305126e-02],\n",
       "       [9.84891956e-01, 1.51080440e-02],\n",
       "       [9.92605597e-01, 7.39440324e-03],\n",
       "       [8.91262467e-02, 9.10873753e-01],\n",
       "       [2.52834735e-01, 7.47165265e-01],\n",
       "       [6.81582505e-01, 3.18417495e-01],\n",
       "       [2.83147651e-01, 7.16852349e-01],\n",
       "       [9.99841424e-01, 1.58576011e-04],\n",
       "       [8.38397341e-02, 9.16160266e-01],\n",
       "       [1.78808472e-01, 8.21191528e-01],\n",
       "       [9.84593854e-01, 1.54061455e-02],\n",
       "       [7.26772897e-01, 2.73227103e-01],\n",
       "       [9.38824915e-01, 6.11750854e-02],\n",
       "       [9.85709374e-01, 1.42906256e-02],\n",
       "       [9.99612665e-01, 3.87335092e-04],\n",
       "       [9.99693435e-01, 3.06565194e-04],\n",
       "       [1.66476352e-01, 8.33523648e-01],\n",
       "       [9.99308873e-01, 6.91126891e-04],\n",
       "       [9.93825376e-01, 6.17462432e-03],\n",
       "       [1.65614830e-01, 8.34385170e-01],\n",
       "       [7.82199825e-02, 9.21780017e-01],\n",
       "       [1.23458299e-02, 9.87654170e-01],\n",
       "       [9.99982048e-01, 1.79515112e-05]])"
      ]
     },
     "execution_count": 16,
     "metadata": {},
     "output_type": "execute_result"
    }
   ],
   "source": [
    "pred_prob"
   ]
  },
  {
   "cell_type": "markdown",
   "id": "dc4489f2",
   "metadata": {},
   "source": [
    "### AUC_ROC Curve Model"
   ]
  },
  {
   "cell_type": "code",
   "execution_count": 18,
   "id": "58e89f0a",
   "metadata": {},
   "outputs": [],
   "source": [
    "fpr,tpr,thresh=roc_curve(y_test,pred_prob[:,1],pos_label=1)\n",
    "\n",
    "random_prob=[0 for i in range(len(y_test))]\n",
    "\n",
    "p_fpr,p_tpr,_=roc_curve(y_test,random_prob,pos_label=1)"
   ]
  },
  {
   "cell_type": "markdown",
   "id": "a224489e",
   "metadata": {},
   "source": [
    "### AUC Score"
   ]
  },
  {
   "cell_type": "code",
   "execution_count": 20,
   "id": "35588294",
   "metadata": {},
   "outputs": [
    {
     "name": "stdout",
     "output_type": "stream",
     "text": [
      "AUC Score :  0.966504832746871\n"
     ]
    }
   ],
   "source": [
    "auc_score=roc_auc_score(y_test,pred_prob[:,1])\n",
    "print(\"AUC Score : \",auc_score)"
   ]
  },
  {
   "cell_type": "markdown",
   "id": "8a71b9a7",
   "metadata": {},
   "source": [
    "### Plot AUC_ROC Curve"
   ]
  },
  {
   "cell_type": "code",
   "execution_count": 22,
   "id": "7139a412",
   "metadata": {},
   "outputs": [
    {
     "data": {
      "image/png": "[encoded data removed]",
      "text/plain": [
       "<Figure size 576x396 with 1 Axes>"
      ]
     },
     "metadata": {},
     "output_type": "display_data"
    }
   ],
   "source": [
    "plt.style.use(\"seaborn\")\n",
    "\n",
    "plt.plot(fpr,tpr,linestyle=\"--\",color='orange',label=\"Logistic Regression\")\n",
    "plt.plot(p_fpr,p_tpr,linestyle=\"--\",color='Blue')\n",
    "\n",
    "plt.title(\"AUC_ROC Curve\")\n",
    "plt.xlabel(\"False Positive Rate\")\n",
    "plt.ylabel(\"True Positive Rate\")\n",
    "plt.legend(loc=\"best\")\n",
    "plt.show()"
   ]
  }
 ],
 "metadata": {
  "kernelspec": {
   "display_name": "Python 3",
   "language": "python",
   "name": "python3"
  },
  "language_info": {
   "codemirror_mode": {
    "name": "ipython",
    "version": 3
   },
   "file_extension": ".py",
   "mimetype": "text/x-python",
   "name": "python",
   "nbconvert_exporter": "python",
   "pygments_lexer": "ipython3",
   "version": "3.8.8"
  }
 },
 "nbformat": 4,
 "nbformat_minor": 5
}
